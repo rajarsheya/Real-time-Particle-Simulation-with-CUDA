{
 "cells": [
  {
   "metadata": {
    "ExecuteTime": {
     "end_time": "2025-04-05T07:01:50.031078Z",
     "start_time": "2025-04-05T06:58:39.393757Z"
    }
   },
   "cell_type": "code",
   "source": [
    "import pygame\n",
    "from pygame.locals import *\n",
    "from OpenGL.GL import *\n",
    "from OpenGL.GLU import *\n",
    "import pandas as pd\n",
    "import random\n",
    "\n",
    "# Load the particle data\n",
    "df = pd.read_csv(\"D:/CUDA Projects/Real-time-Particle-Simulation-with-CUDA/particles.csv\")\n",
    "num_frames = df['frame'].max() + 1\n",
    "num_particles = df['particle_id'].nunique()\n",
    "\n",
    "# Get grouped frame data\n",
    "frame_data = [df[df['frame'] == i] for i in range(num_frames)]\n",
    "\n",
    "# Initialize PyGame and OpenGL\n",
    "def init_display():\n",
    "    pygame.init()\n",
    "    display = (800, 600)\n",
    "    pygame.display.set_mode(display, DOUBLEBUF | OPENGL)\n",
    "    glEnable(GL_DEPTH_TEST)\n",
    "    gluPerspective(45, display[0] / display[1], 0.1, 100.0)\n",
    "    glTranslatef(-5, -5, -25)  # Move camera back and down a bit\n",
    "\n",
    "# Generate random colors for each particle\n",
    "def generate_random_colors(particle_ids):\n",
    "    random.seed(42)\n",
    "    return {\n",
    "        pid: [random.uniform(0.0, 1.0), random.uniform(0.0, 1.0), random.uniform(0.0, 1.0)]\n",
    "        for pid in particle_ids\n",
    "    }\n",
    "\n",
    "# Draw particles for a given frame\n",
    "def draw_particles(particles, colors):\n",
    "    glClear(GL_COLOR_BUFFER_BIT | GL_DEPTH_BUFFER_BIT)\n",
    "    glPointSize(3)\n",
    "    glBegin(GL_POINTS)\n",
    "    for _, p in particles.iterrows():\n",
    "        pid = int(p['particle_id'])\n",
    "        color = colors[pid]\n",
    "        glColor3f(color[0], color[1], color[2])  # Set color for each particle\n",
    "        glVertex3f(p['x'], p['y'], p['z'])\n",
    "    glEnd()\n",
    "    pygame.display.flip()\n",
    "\n",
    "# Run animation loop\n",
    "def run_simulation():\n",
    "    init_display()\n",
    "    clock = pygame.time.Clock()\n",
    "    frame_idx = 0\n",
    "\n",
    "    # Generate random colors for each particle\n",
    "    colors = generate_random_colors(df['particle_id'].unique())\n",
    "\n",
    "    running = True\n",
    "    while running:\n",
    "        clock.tick(30)  # Target 30 FPS\n",
    "        for event in pygame.event.get():\n",
    "            if event.type == pygame.QUIT:\n",
    "                running = False\n",
    "\n",
    "        # Draw particles for the current frame\n",
    "        draw_particles(frame_data[frame_idx], colors)\n",
    "\n",
    "        frame_idx = (frame_idx + 1) % num_frames\n",
    "\n",
    "    pygame.quit()\n",
    "\n",
    "if __name__ == \"__main__\":\n",
    "    run_simulation()\n"
   ],
   "id": "b93fbc049bc472a7",
   "outputs": [
    {
     "name": "stdout",
     "output_type": "stream",
     "text": [
      "pygame 2.6.1 (SDL 2.28.4, Python 3.12.2)\n",
      "Hello from the pygame community. https://www.pygame.org/contribute.html\n"
     ]
    }
   ],
   "execution_count": 1
  },
  {
   "metadata": {},
   "cell_type": "code",
   "outputs": [],
   "execution_count": null,
   "source": "",
   "id": "a8e11ca38a4520ef"
  }
 ],
 "metadata": {
  "kernelspec": {
   "display_name": "Python 3",
   "language": "python",
   "name": "python3"
  },
  "language_info": {
   "codemirror_mode": {
    "name": "ipython",
    "version": 2
   },
   "file_extension": ".py",
   "mimetype": "text/x-python",
   "name": "python",
   "nbconvert_exporter": "python",
   "pygments_lexer": "ipython2",
   "version": "2.7.6"
  }
 },
 "nbformat": 4,
 "nbformat_minor": 5
}
